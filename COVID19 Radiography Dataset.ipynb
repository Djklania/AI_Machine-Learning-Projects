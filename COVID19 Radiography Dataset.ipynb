{
  "nbformat": 4,
  "nbformat_minor": 0,
  "metadata": {
    "colab": {
      "provenance": []
    },
    "kernelspec": {
      "name": "python3",
      "display_name": "Python 3"
    },
    "language_info": {
      "name": "python"
    },
    "accelerator": "GPU"
  },
  "cells": [
    {
      "cell_type": "markdown",
      "source": [
        "#Imports\n"
      ],
      "metadata": {
        "id": "nwq7bXnhp_-7"
      }
    },
    {
      "cell_type": "code",
      "execution_count": 1,
      "metadata": {
        "id": "FwHIP_VtJ-WJ"
      },
      "outputs": [],
      "source": [
        "import numpy as np\n",
        "import matplotlib.pyplot as plt\n",
        "import matplotlib.image as mpimg\n",
        "\n",
        "import random\n",
        "import zipfile\n",
        "import pathlib\n",
        "import os\n",
        "import itertools\n",
        "\n",
        "import tensorflow as tf\n",
        "import tensorflow_hub as hub\n",
        "from tensorflow.keras.preprocessing.image import ImageDataGenerator\n",
        "\n",
        "from sklearn.metrics import confusion_matrix\n",
        "import pandas as pd\n",
        "import seaborn as sns"
      ]
    },
    {
      "cell_type": "markdown",
      "source": [
        "split-folders PyPI: Split folders with files (e.g. images) into train, validation and test (dataset) folders."
      ],
      "metadata": {
        "id": "pe_9hbUT6BY5"
      }
    },
    {
      "cell_type": "code",
      "source": [
        "!pip install split-folders\n",
        "import splitfolders"
      ],
      "metadata": {
        "id": "87i9De8lhUhY",
        "colab": {
          "base_uri": "https://localhost:8080/"
        },
        "outputId": "19c523bb-cc9d-4888-96e8-2cec6f55adee"
      },
      "execution_count": 2,
      "outputs": [
        {
          "output_type": "stream",
          "name": "stdout",
          "text": [
            "Collecting split-folders\n",
            "  Downloading split_folders-0.5.1-py3-none-any.whl (8.4 kB)\n",
            "Installing collected packages: split-folders\n",
            "Successfully installed split-folders-0.5.1\n"
          ]
        }
      ]
    },
    {
      "cell_type": "code",
      "source": [
        "from google.colab import drive\n",
        "drive.mount('/content/drive')"
      ],
      "metadata": {
        "id": "vOKquncvW1wu",
        "colab": {
          "base_uri": "https://localhost:8080/"
        },
        "outputId": "bfc8c04f-b486-40da-a3a4-63aa3079d141"
      },
      "execution_count": 3,
      "outputs": [
        {
          "output_type": "stream",
          "name": "stdout",
          "text": [
            "Mounted at /content/drive\n"
          ]
        }
      ]
    },
    {
      "cell_type": "code",
      "source": [
        "!cp '/content/drive/MyDrive/Datasets/COVID-19_Radiography_Dataset.zip' .\n",
        "!unzip -q -n COVID-19_Radiography_Dataset.zip\n",
        "data_dir = '/content/COVID-19_Radiography_Dataset'\n",
        "#Dataset path = /content/COVID-19_Radiography_Dataset"
      ],
      "metadata": {
        "id": "9UmWKMkOtbwz"
      },
      "execution_count": 4,
      "outputs": []
    },
    {
      "cell_type": "code",
      "source": [
        "# Setup some global variables\n",
        "BATCH_SIZE = 64\n",
        "IMG_SIZE = (299,299)"
      ],
      "metadata": {
        "id": "xqDRrYh-9fZR"
      },
      "execution_count": 5,
      "outputs": []
    },
    {
      "cell_type": "markdown",
      "source": [
        "#2.1 Συνάρτηση prepare_datasets"
      ],
      "metadata": {
        "id": "TVCPPDQ7tAo8"
      }
    },
    {
      "cell_type": "code",
      "source": [
        "def prepare_datasets(data_dir, train_pct=0.6, val_pct=0.2, test_pct=0.2, batch_size=64, img_size=(299, 299)):\n",
        "    splitfolders.ratio(data_dir, output=\"/content/Data\", ratio=(train_pct, val_pct, test_pct))\n",
        "\n",
        "    # Get the subdirectories (classes)\n",
        "    data_dir = pathlib.Path('/content/Data/test')\n",
        "    classes = np.array(sorted(item.name for item in data_dir.glob(\"*\")))\n",
        "\n",
        "    # Test train validation split\n",
        "    test_dir = '/content/Data/test'\n",
        "    train_dir = '/content/Data/train'\n",
        "    val_dir = '/content/Data/val'\n",
        "\n",
        "    test_datagen = ImageDataGenerator(rescale = 1/255.)\n",
        "    train_datagen = ImageDataGenerator(rescale = 1/255.)\n",
        "    valid_datagen = ImageDataGenerator(rescale = 1/255.)\n",
        "\n",
        "    test_ds = tf.keras.utils.image_dataset_from_directory(directory=test_dir,\n",
        "                                                          color_mode = 'grayscale',\n",
        "                                                          batch_size = BATCH_SIZE,\n",
        "                                                          image_size = IMG_SIZE,\n",
        "                                                          label_mode = 'categorical')\n",
        "\n",
        "    train_ds = tf.keras.utils.image_dataset_from_directory(directory=train_dir,\n",
        "                                                           color_mode = 'grayscale',\n",
        "                                                           batch_size = BATCH_SIZE,\n",
        "                                                           image_size = IMG_SIZE,\n",
        "                                                           label_mode = 'categorical')\n",
        "\n",
        "    val_ds = tf.keras.utils.image_dataset_from_directory(directory=val_dir,\n",
        "                                                         color_mode = 'grayscale',\n",
        "                                                         batch_size = BATCH_SIZE,\n",
        "                                                         image_size = IMG_SIZE,\n",
        "                                                         label_mode = 'categorical')\n",
        "\n",
        "    devel_ds = np.concatenate((train_ds, val_ds), axis=None)\n",
        "\n",
        "    return devel_ds, train_ds, val_ds, test_ds, classes"
      ],
      "metadata": {
        "id": "d_z680pVqjk6"
      },
      "execution_count": 6,
      "outputs": []
    },
    {
      "cell_type": "markdown",
      "source": [
        "#3 Απλό συνελικτικό δίκτυο"
      ],
      "metadata": {
        "id": "C5tGjmznrnz5"
      }
    },
    {
      "cell_type": "code",
      "source": [
        "devel_ds, train_ds, val_ds, test_ds, class_names = prepare_datasets(data_dir=\"/content/COVID-19_Radiography_Dataset\")"
      ],
      "metadata": {
        "id": "kJJH6ZXCN9kJ",
        "colab": {
          "base_uri": "https://localhost:8080/"
        },
        "outputId": "f05d0055-5418-47dc-d529-a12262af7ce8"
      },
      "execution_count": 7,
      "outputs": [
        {
          "output_type": "stream",
          "name": "stderr",
          "text": [
            "Copying files: 21165 files [00:07, 2671.25 files/s]\n"
          ]
        },
        {
          "output_type": "stream",
          "name": "stdout",
          "text": [
            "Found 4235 files belonging to 4 classes.\n",
            "Found 12698 files belonging to 4 classes.\n",
            "Found 4232 files belonging to 4 classes.\n"
          ]
        }
      ]
    },
    {
      "cell_type": "code",
      "source": [
        "def cnn1(num_classes):\n",
        "    model = tf.keras.Sequential([\n",
        "      tf.keras.layers.BatchNormalization(),\n",
        "      tf.keras.layers.Conv2D(8,3,activation=\"relu\",input_shape = (299,299,3)),\n",
        "      tf.keras.layers.MaxPooling2D(strides = 2),\n",
        "      tf.keras.layers.Conv2D(16,3,activation=\"relu\",input_shape = (299,299,3)),\n",
        "      tf.keras.layers.MaxPooling2D(strides = 2),\n",
        "      tf.keras.layers.Flatten(),\n",
        "      tf.keras.layers.Dense(32, activation=\"relu\"),\n",
        "      tf.keras.layers.Dense(num_classes,activation=\"softmax\")\n",
        "    ])\n",
        "    return model"
      ],
      "metadata": {
        "id": "JBK4nG_8rvlc"
      },
      "execution_count": 8,
      "outputs": []
    },
    {
      "cell_type": "code",
      "source": [
        "model_1 = cnn1(num_classes=4)"
      ],
      "metadata": {
        "id": "Ml4xEe_K7Nu0"
      },
      "execution_count": 9,
      "outputs": []
    },
    {
      "cell_type": "code",
      "source": [
        "# Compile Model 1\n",
        "model_1.compile(optimizer = tf.keras.optimizers.Adam(learning_rate = 10**-3,\n",
        "                                                     beta_1 = 0.9,\n",
        "                                                     beta_2 = 0.99 ),\n",
        "                loss = tf.keras.losses.CategoricalCrossentropy(),\n",
        "                metrics = [\"accuracy\"])\n",
        "\n",
        "# Setup early callback\n",
        "callback = tf.keras.callbacks.EarlyStopping(monitor =\"loss\",patience = 3)\n",
        "\n",
        "# Fit the model\n",
        "history_1 = model_1.fit(train_ds,\n",
        "            batch_size = BATCH_SIZE,\n",
        "            steps_per_epoch = len(train_ds),\n",
        "            validation_data = val_ds,\n",
        "            validation_steps = len(val_ds),\n",
        "            epochs = 5,\n",
        "            callbacks = [callback])"
      ],
      "metadata": {
        "id": "BLcy1fz87RNX",
        "colab": {
          "base_uri": "https://localhost:8080/"
        },
        "outputId": "56ced69d-9921-4667-8fca-c784ec818ff9"
      },
      "execution_count": 10,
      "outputs": [
        {
          "output_type": "stream",
          "name": "stdout",
          "text": [
            "Epoch 1/5\n",
            "199/199 [==============================] - 46s 166ms/step - loss: 1.1820 - accuracy: 0.5489 - val_loss: 0.7665 - val_accuracy: 0.6732\n",
            "Epoch 2/5\n",
            "199/199 [==============================] - 36s 173ms/step - loss: 0.6248 - accuracy: 0.7619 - val_loss: 0.5294 - val_accuracy: 0.8015\n",
            "Epoch 3/5\n",
            "199/199 [==============================] - 37s 184ms/step - loss: 0.4696 - accuracy: 0.8226 - val_loss: 0.4931 - val_accuracy: 0.8164\n",
            "Epoch 4/5\n",
            "199/199 [==============================] - 39s 193ms/step - loss: 0.3756 - accuracy: 0.8598 - val_loss: 0.4863 - val_accuracy: 0.8143\n",
            "Epoch 5/5\n",
            "199/199 [==============================] - 36s 171ms/step - loss: 0.2978 - accuracy: 0.8905 - val_loss: 0.5205 - val_accuracy: 0.8065\n"
          ]
        }
      ]
    },
    {
      "cell_type": "markdown",
      "source": [
        "# 3.2 Αξιολόγηση"
      ],
      "metadata": {
        "id": "u8xD9lQl-bVl"
      }
    },
    {
      "cell_type": "code",
      "source": [
        "def create_and_plot_confusion(model, dataset, class_names = class_names, pre_trained = False):\n",
        "    # Get predictions and labels\n",
        "    if pre_trained:\n",
        "        y_pred = model.predict(dataset)\n",
        "        pred = np.argmax(y_pred, axis = 1)\n",
        "        labels = np.argmax(dataset, axis = 1)\n",
        "    else:\n",
        "        pred = np.array([])\n",
        "        labels = np.array([])\n",
        "        for x , y in dataset:\n",
        "            pred = np.concatenate([pred, np.argmax(model.predict(x), axis=-1)])\n",
        "            labels = np.concatenate([labels, np.argmax(y.numpy(), axis=-1)])\n",
        "\n",
        "    # Create a confusion matrix\n",
        "    confusion =  tf.math.confusion_matrix(labels=labels, predictions=pred).numpy()\n",
        "\n",
        "    # Create multi class color plot for confusion matrix\n",
        "    label_conf = np.arange(confusion.shape[0])\n",
        "    fig , ax = plt.subplots(figsize=(16,16))\n",
        "    cax = ax.matshow(confusion, cmap=plt.cm.Blues)\n",
        "    fig.colorbar(cax)\n",
        "\n",
        "    ax.set(title=\"Confusion Matrix\",\n",
        "           xlabel=\"Predicted\",\n",
        "           ylabel=\"True\",\n",
        "           xticks = np.arange(len(class_names)),\n",
        "           yticks = np.arange(len(class_names)),\n",
        "           xticklabels = class_names,\n",
        "           yticklabels = class_names)\n",
        "    ax.xaxis.set_label_position(\"bottom\")\n",
        "    ax.xaxis.tick_bottom()\n",
        "\n",
        "    # Set the threshold for different colors\n",
        "    threshold = (confusion.max() + confusion.min()) / 2.\n",
        "\n",
        "    for i, j in itertools.product(range(confusion.shape[0]), range(confusion.shape[1])):\n",
        "        plt.text(j, i, f\"{confusion[i, j]}\",\n",
        "                horizontalalignment=\"center\",\n",
        "                color=\"white\" if confusion[i, j] > threshold else \"black\",\n",
        "                size=14)"
      ],
      "metadata": {
        "id": "gU0TNFLqyF3q"
      },
      "execution_count": 11,
      "outputs": []
    },
    {
      "cell_type": "code",
      "source": [
        "print(f\" Training :{model_1.evaluate(train_ds)}\")\n",
        "print(f\" Testing  :{model_1.evaluate(test_ds)}\")\n",
        "print(f\" Valid    :{model_1.evaluate(val_ds)}\")"
      ],
      "metadata": {
        "id": "onHxKPVS-wDA",
        "colab": {
          "base_uri": "https://localhost:8080/"
        },
        "outputId": "e81aa3bf-4400-4600-b969-36f4b3c9ebcb"
      },
      "execution_count": 12,
      "outputs": [
        {
          "output_type": "stream",
          "name": "stdout",
          "text": [
            "199/199 [==============================] - 22s 107ms/step - loss: 0.2421 - accuracy: 0.9105\n",
            " Training :[0.2421218603849411, 0.91053706407547]\n",
            "67/67 [==============================] - 7s 94ms/step - loss: 0.5410 - accuracy: 0.8104\n",
            " Testing  :[0.5410270690917969, 0.8103896379470825]\n",
            "67/67 [==============================] - 9s 106ms/step - loss: 0.5205 - accuracy: 0.8065\n",
            " Valid    :[0.520484209060669, 0.806474506855011]\n"
          ]
        }
      ]
    },
    {
      "cell_type": "code",
      "source": [
        "create_and_plot_confusion(model_1, test_ds)"
      ],
      "metadata": {
        "id": "y3AKoBgZ_b2H",
        "colab": {
          "base_uri": "https://localhost:8080/",
          "height": 1000
        },
        "outputId": "ef57011c-a12c-41ce-ae99-d30f0ae5b8b3"
      },
      "execution_count": 13,
      "outputs": [
        {
          "output_type": "stream",
          "name": "stdout",
          "text": [
            "2/2 [==============================] - 0s 10ms/step\n",
            "2/2 [==============================] - 0s 11ms/step\n",
            "2/2 [==============================] - 0s 12ms/step\n",
            "2/2 [==============================] - 0s 11ms/step\n",
            "2/2 [==============================] - 0s 10ms/step\n",
            "2/2 [==============================] - 0s 9ms/step\n",
            "2/2 [==============================] - 0s 10ms/step\n",
            "2/2 [==============================] - 0s 14ms/step\n",
            "2/2 [==============================] - 0s 11ms/step\n",
            "2/2 [==============================] - 0s 11ms/step\n",
            "2/2 [==============================] - 0s 8ms/step\n",
            "2/2 [==============================] - 0s 15ms/step\n",
            "2/2 [==============================] - 0s 11ms/step\n",
            "2/2 [==============================] - 0s 11ms/step\n",
            "2/2 [==============================] - 0s 10ms/step\n",
            "2/2 [==============================] - 0s 13ms/step\n",
            "2/2 [==============================] - 0s 16ms/step\n",
            "2/2 [==============================] - 0s 31ms/step\n",
            "2/2 [==============================] - 0s 16ms/step\n",
            "2/2 [==============================] - 0s 31ms/step\n",
            "2/2 [==============================] - 0s 15ms/step\n",
            "2/2 [==============================] - 0s 14ms/step\n",
            "2/2 [==============================] - 0s 17ms/step\n",
            "2/2 [==============================] - 0s 12ms/step\n",
            "2/2 [==============================] - 0s 26ms/step\n",
            "2/2 [==============================] - 0s 14ms/step\n",
            "2/2 [==============================] - 0s 15ms/step\n",
            "2/2 [==============================] - 0s 13ms/step\n",
            "2/2 [==============================] - 0s 11ms/step\n",
            "2/2 [==============================] - 0s 9ms/step\n",
            "2/2 [==============================] - 0s 16ms/step\n",
            "2/2 [==============================] - 0s 18ms/step\n",
            "2/2 [==============================] - 0s 19ms/step\n",
            "2/2 [==============================] - 0s 10ms/step\n",
            "2/2 [==============================] - 0s 12ms/step\n",
            "2/2 [==============================] - 0s 12ms/step\n",
            "2/2 [==============================] - 0s 15ms/step\n",
            "2/2 [==============================] - 0s 13ms/step\n",
            "2/2 [==============================] - 0s 12ms/step\n",
            "2/2 [==============================] - 0s 12ms/step\n",
            "2/2 [==============================] - 0s 11ms/step\n",
            "2/2 [==============================] - 0s 13ms/step\n",
            "2/2 [==============================] - 0s 10ms/step\n",
            "2/2 [==============================] - 0s 12ms/step\n",
            "2/2 [==============================] - 0s 12ms/step\n",
            "2/2 [==============================] - 0s 11ms/step\n",
            "2/2 [==============================] - 0s 12ms/step\n",
            "2/2 [==============================] - 0s 10ms/step\n",
            "2/2 [==============================] - 0s 10ms/step\n",
            "2/2 [==============================] - 0s 12ms/step\n",
            "2/2 [==============================] - 0s 13ms/step\n",
            "2/2 [==============================] - 0s 14ms/step\n",
            "2/2 [==============================] - 0s 9ms/step\n",
            "2/2 [==============================] - 0s 12ms/step\n",
            "2/2 [==============================] - 0s 9ms/step\n",
            "2/2 [==============================] - 0s 12ms/step\n",
            "2/2 [==============================] - 0s 14ms/step\n",
            "2/2 [==============================] - 0s 10ms/step\n",
            "2/2 [==============================] - 0s 9ms/step\n",
            "2/2 [==============================] - 0s 10ms/step\n",
            "2/2 [==============================] - 0s 9ms/step\n",
            "2/2 [==============================] - 0s 10ms/step\n",
            "2/2 [==============================] - 0s 9ms/step\n",
            "2/2 [==============================] - 0s 9ms/step\n",
            "2/2 [==============================] - 0s 11ms/step\n",
            "2/2 [==============================] - 0s 10ms/step\n",
            "1/1 [==============================] - 0s 84ms/step\n"
          ]
        },
        {
          "output_type": "display_data",
          "data": {
            "text/plain": [
              "<Figure size 1600x1600 with 2 Axes>"
            ],
            "image/png": "[encoded data removed]"
          },
          "metadata": {}
        }
      ]
    },
    {
      "cell_type": "markdown",
      "source": [
        "# 4 Συνελικτικό δίκτυο μεγαλύτερου βάθους"
      ],
      "metadata": {
        "id": "2q1N5m8-A0FX"
      }
    },
    {
      "cell_type": "code",
      "source": [
        "def cnn2(num_classes):\n",
        "    model = tf.keras.models.Sequential([\n",
        "      tf.keras.layers.BatchNormalization(),\n",
        "      tf.keras.layers.Conv2D(32,3,input_shape = (224,224,3),activation=\"relu\"),\n",
        "      tf.keras.layers.Conv2D(32,3,input_shape = (224,224,3),activation=\"relu\"),\n",
        "      tf.keras.layers.MaxPooling2D(strides = 4),\n",
        "\n",
        "      tf.keras.layers.Conv2D(64,3,input_shape = (224,224,3),activation=\"relu\"),\n",
        "      tf.keras.layers.Conv2D(64,3,input_shape = (224,224,3),activation=\"relu\"),\n",
        "      tf.keras.layers.MaxPooling2D(strides = 2),\n",
        "\n",
        "      tf.keras.layers.Conv2D(128,3,input_shape = (224,224,3),activation=\"relu\"),\n",
        "      tf.keras.layers.Conv2D(128,3,input_shape = (224,224,3),activation=\"relu\"),\n",
        "      tf.keras.layers.MaxPooling2D(strides = 2),\n",
        "\n",
        "      tf.keras.layers.Conv2D(256,3,input_shape = (224,224,3),activation=\"relu\"),\n",
        "      tf.keras.layers.Conv2D(256,3,input_shape = (224,224,3),activation=\"relu\"),\n",
        "      tf.keras.layers.Conv2D(256,3,input_shape = (224,224,3),activation=\"relu\"),\n",
        "      tf.keras.layers.MaxPooling2D(strides = 2),\n",
        "\n",
        "      tf.keras.layers.Conv2D(512, 3,input_shape = IMG_SIZE,activation=\"relu\"),\n",
        "      tf.keras.layers.MaxPooling2D(2),\n",
        "\n",
        "      tf.keras.layers.Flatten(),\n",
        "      tf.keras.layers.Dense(1024, activation=\"relu\"),\n",
        "      tf.keras.layers.Dense(num_classes,activation=\"softmax\")\n",
        "    ])\n",
        "\n",
        "    return model"
      ],
      "metadata": {
        "id": "PfTpY5Zu_pOJ"
      },
      "execution_count": 14,
      "outputs": []
    },
    {
      "cell_type": "code",
      "source": [
        "# Create the model\n",
        "model_2 = cnn2(len(class_names))\n",
        "\n",
        "# Compile Model 2\n",
        "model_2.compile(optimizer = tf.keras.optimizers.Adam(learning_rate = 10**-3,\n",
        "                                                     beta_1 = 0.9 ,\n",
        "                                                     beta_2 =0.99 ),\n",
        "                loss = tf.keras.losses.CategoricalCrossentropy(),\n",
        "                metrics = [\"accuracy\"])\n",
        "\n",
        "# Setup early callback\n",
        "callback = tf.keras.callbacks.EarlyStopping(monitor =\"loss\",patience = 3)\n",
        "\n",
        "# Fit the model\n",
        "history_2 = model_2.fit(train_ds,\n",
        "                        steps_per_epoch = len(train_ds),\n",
        "                        epochs = 5,\n",
        "                        batch_size = BATCH_SIZE,\n",
        "                        validation_data = val_ds,\n",
        "                        validation_steps = len(val_ds),\n",
        "                        callbacks = [callback])"
      ],
      "metadata": {
        "id": "m2GoovLrCGN1",
        "colab": {
          "base_uri": "https://localhost:8080/"
        },
        "outputId": "f6d85959-6d32-4e39-a7ca-21e6324f910a"
      },
      "execution_count": 16,
      "outputs": [
        {
          "output_type": "stream",
          "name": "stdout",
          "text": [
            "Epoch 1/5\n",
            "199/199 [==============================] - 81s 339ms/step - loss: 0.9908 - accuracy: 0.5813 - val_loss: 0.8685 - val_accuracy: 0.6281\n",
            "Epoch 2/5\n",
            "199/199 [==============================] - 63s 312ms/step - loss: 0.6934 - accuracy: 0.7265 - val_loss: 0.6455 - val_accuracy: 0.7509\n",
            "Epoch 3/5\n",
            "199/199 [==============================] - 61s 305ms/step - loss: 0.5863 - accuracy: 0.7740 - val_loss: 0.5392 - val_accuracy: 0.7956\n",
            "Epoch 4/5\n",
            "199/199 [==============================] - 60s 299ms/step - loss: 0.5193 - accuracy: 0.8015 - val_loss: 0.5162 - val_accuracy: 0.8039\n",
            "Epoch 5/5\n",
            "199/199 [==============================] - 61s 302ms/step - loss: 0.4446 - accuracy: 0.8331 - val_loss: 0.4879 - val_accuracy: 0.8299\n"
          ]
        }
      ]
    },
    {
      "cell_type": "code",
      "source": [
        "print(f\" Training :{model_2.evaluate(train_ds)}\")\n",
        "print(f\" Testing  :{model_2.evaluate(test_ds)}\")\n",
        "print(f\" Valid    :{model_2.evaluate(val_ds)}\")"
      ],
      "metadata": {
        "id": "8Pnn4mzHCGUk",
        "colab": {
          "base_uri": "https://localhost:8080/"
        },
        "outputId": "aace524d-584c-493b-b6ba-eb264abaebcb"
      },
      "execution_count": 17,
      "outputs": [
        {
          "output_type": "stream",
          "name": "stdout",
          "text": [
            "199/199 [==============================] - 26s 128ms/step - loss: 0.4127 - accuracy: 0.8501\n",
            " Training :[0.4126618802547455, 0.8500550985336304]\n",
            "67/67 [==============================] - 9s 114ms/step - loss: 0.5156 - accuracy: 0.8201\n",
            " Testing  :[0.5155907273292542, 0.8200708627700806]\n",
            "67/67 [==============================] - 10s 135ms/step - loss: 0.4879 - accuracy: 0.8299\n",
            " Valid    :[0.4878746569156647, 0.8298676609992981]\n"
          ]
        }
      ]
    },
    {
      "cell_type": "code",
      "source": [
        "create_and_plot_confusion(model_2, test_ds)"
      ],
      "metadata": {
        "id": "lr3wohCSCIGX",
        "colab": {
          "base_uri": "https://localhost:8080/",
          "height": 1000
        },
        "outputId": "eae92a94-e632-4c12-e9b8-626dbaf1490f"
      },
      "execution_count": 18,
      "outputs": [
        {
          "output_type": "stream",
          "name": "stdout",
          "text": [
            "2/2 [==============================] - 2s 10ms/step\n",
            "2/2 [==============================] - 0s 24ms/step\n",
            "2/2 [==============================] - 0s 24ms/step\n",
            "2/2 [==============================] - 0s 25ms/step\n",
            "2/2 [==============================] - 0s 25ms/step\n",
            "2/2 [==============================] - 0s 25ms/step\n",
            "2/2 [==============================] - 0s 25ms/step\n",
            "2/2 [==============================] - 0s 28ms/step\n",
            "2/2 [==============================] - 0s 24ms/step\n",
            "2/2 [==============================] - 0s 25ms/step\n",
            "2/2 [==============================] - 0s 26ms/step\n",
            "2/2 [==============================] - 0s 27ms/step\n",
            "2/2 [==============================] - 0s 31ms/step\n",
            "2/2 [==============================] - 0s 29ms/step\n",
            "2/2 [==============================] - 0s 35ms/step\n",
            "2/2 [==============================] - 0s 28ms/step\n",
            "2/2 [==============================] - 0s 30ms/step\n",
            "2/2 [==============================] - 0s 32ms/step\n",
            "2/2 [==============================] - 0s 30ms/step\n",
            "2/2 [==============================] - 0s 27ms/step\n",
            "2/2 [==============================] - 0s 29ms/step\n",
            "2/2 [==============================] - 0s 27ms/step\n",
            "2/2 [==============================] - 0s 35ms/step\n",
            "2/2 [==============================] - 0s 31ms/step\n",
            "2/2 [==============================] - 0s 26ms/step\n",
            "2/2 [==============================] - 0s 33ms/step\n",
            "2/2 [==============================] - 0s 34ms/step\n",
            "2/2 [==============================] - 0s 37ms/step\n",
            "2/2 [==============================] - 0s 61ms/step\n",
            "2/2 [==============================] - 0s 47ms/step\n",
            "2/2 [==============================] - 0s 48ms/step\n",
            "2/2 [==============================] - 0s 43ms/step\n",
            "2/2 [==============================] - 0s 47ms/step\n",
            "2/2 [==============================] - 0s 43ms/step\n",
            "2/2 [==============================] - 0s 43ms/step\n",
            "2/2 [==============================] - 0s 43ms/step\n",
            "2/2 [==============================] - 0s 71ms/step\n",
            "2/2 [==============================] - 0s 43ms/step\n",
            "2/2 [==============================] - 0s 42ms/step\n",
            "2/2 [==============================] - 0s 48ms/step\n",
            "2/2 [==============================] - 0s 43ms/step\n",
            "2/2 [==============================] - 0s 40ms/step\n",
            "2/2 [==============================] - 0s 45ms/step\n",
            "2/2 [==============================] - 0s 40ms/step\n",
            "2/2 [==============================] - 0s 36ms/step\n",
            "2/2 [==============================] - 0s 36ms/step\n",
            "2/2 [==============================] - 0s 36ms/step\n",
            "2/2 [==============================] - 0s 36ms/step\n",
            "2/2 [==============================] - 0s 36ms/step\n",
            "2/2 [==============================] - 0s 37ms/step\n",
            "2/2 [==============================] - 0s 35ms/step\n",
            "2/2 [==============================] - 0s 30ms/step\n",
            "2/2 [==============================] - 0s 31ms/step\n",
            "2/2 [==============================] - 0s 30ms/step\n",
            "2/2 [==============================] - 0s 31ms/step\n",
            "2/2 [==============================] - 0s 29ms/step\n",
            "2/2 [==============================] - 0s 28ms/step\n",
            "2/2 [==============================] - 0s 29ms/step\n",
            "2/2 [==============================] - 0s 28ms/step\n",
            "2/2 [==============================] - 0s 25ms/step\n",
            "2/2 [==============================] - 0s 26ms/step\n",
            "2/2 [==============================] - 0s 26ms/step\n",
            "2/2 [==============================] - 0s 25ms/step\n",
            "2/2 [==============================] - 0s 25ms/step\n",
            "2/2 [==============================] - 0s 25ms/step\n",
            "2/2 [==============================] - 0s 27ms/step\n",
            "1/1 [==============================] - 0s 144ms/step\n"
          ]
        },
        {
          "output_type": "display_data",
          "data": {
            "text/plain": [
              "<Figure size 1600x1600 with 2 Axes>"
            ],
            "image/png": "[encoded data removed]"
          },
          "metadata": {}
        }
      ]
    },
    {
      "cell_type": "markdown",
      "source": [
        "# 5 Με χρήση προεκπαιδευμένου δικτύου"
      ],
      "metadata": {
        "id": "OJYnYjEQCiWC"
      }
    },
    {
      "cell_type": "code",
      "source": [
        "# Change global variables\n",
        "BATCH_SIZE = 32\n",
        "IMG_SIZE = (224,244)\n",
        "\n",
        "# Test train validation split\n",
        "train_dir = '/content/Data/train'\n",
        "test_dir = '/content/Data/test'\n",
        "val_dir = '/content/Data/val'\n",
        "\n",
        "train_datagen = ImageDataGenerator(rescale = 1/255.)\n",
        "test_datagen = ImageDataGenerator(rescale = 1/255.)\n",
        "valid_datagen = ImageDataGenerator(rescale = 1/255.)\n",
        "\n",
        "train_data = train_datagen.flow_from_directory(train_dir,\n",
        "                                                  target_size = IMG_SIZE,\n",
        "                                                  batch_size = BATCH_SIZE,\n",
        "                                                  class_mode = \"categorical\")\n",
        "test_data = test_datagen.flow_from_directory(test_dir,\n",
        "                                                target_size = IMG_SIZE,\n",
        "                                                batch_size = BATCH_SIZE,\n",
        "                                                class_mode = \"categorical\")\n",
        "\n",
        "val_data = valid_datagen.flow_from_directory(val_dir,\n",
        "                                                target_size = IMG_SIZE,\n",
        "                                                batch_size = BATCH_SIZE,\n",
        "                                                class_mode = \"categorical\")"
      ],
      "metadata": {
        "id": "cFH6cfapYGmn",
        "colab": {
          "base_uri": "https://localhost:8080/"
        },
        "outputId": "767b0de6-e81f-4d72-82e9-f1571cdd045f"
      },
      "execution_count": 19,
      "outputs": [
        {
          "output_type": "stream",
          "name": "stdout",
          "text": [
            "Found 12698 images belonging to 4 classes.\n",
            "Found 4235 images belonging to 4 classes.\n",
            "Found 4232 images belonging to 4 classes.\n"
          ]
        }
      ]
    },
    {
      "cell_type": "code",
      "source": [
        "model_url = \"https://tfhub.dev/tensorflow/efficientnet/b0/feature-vector/1\"\n",
        "\n",
        "# Create the efficientnet layer\n",
        "feature_extractor_layer  = hub.KerasLayer(model_url,\n",
        "                               trainable=False,\n",
        "                               input_shape = IMG_SIZE+(3,))\n",
        "\n",
        "output_size = len(class_names)\n",
        "\n",
        "# Now time to create our own model\n",
        "model_3  = tf.keras.Sequential([\n",
        "    feature_extractor_layer,\n",
        "    tf.keras.layers.Dense(output_size,activation=\"softmax\")\n",
        "])\n",
        "\n",
        "# Compile Model 3\n",
        "model_3.compile(optimizer = tf.keras.optimizers.Adam(learning_rate = 10**-3,\n",
        "                                                     beta_1 = 0.9 ,\n",
        "                                                     beta_2 =0.99 ),\n",
        "                loss = tf.keras.losses.CategoricalCrossentropy(),\n",
        "                metrics = [\"accuracy\"])\n",
        "\n",
        "# Setup early callback\n",
        "callback = tf.keras.callbacks.EarlyStopping(monitor =\"loss\",patience = 3)\n",
        "\n",
        "# Fit the model\n",
        "history_3 = model_3.fit(train_data,\n",
        "                        epochs = 5,\n",
        "                        batch_size = BATCH_SIZE,\n",
        "                        validation_data = val_data,\n",
        "                        callbacks = [callback])"
      ],
      "metadata": {
        "id": "NYjWqt2JCk-I",
        "colab": {
          "base_uri": "https://localhost:8080/"
        },
        "outputId": "202714f3-e2c1-427a-8adb-b35be96aee7c"
      },
      "execution_count": 20,
      "outputs": [
        {
          "output_type": "stream",
          "name": "stdout",
          "text": [
            "Epoch 1/5\n",
            "397/397 [==============================] - 80s 168ms/step - loss: 0.5428 - accuracy: 0.7997 - val_loss: 0.3992 - val_accuracy: 0.8471\n",
            "Epoch 2/5\n",
            "397/397 [==============================] - 63s 158ms/step - loss: 0.3772 - accuracy: 0.8653 - val_loss: 0.3380 - val_accuracy: 0.8776\n",
            "Epoch 3/5\n",
            "397/397 [==============================] - 64s 161ms/step - loss: 0.3313 - accuracy: 0.8828 - val_loss: 0.3196 - val_accuracy: 0.8811\n",
            "Epoch 4/5\n",
            "397/397 [==============================] - 65s 164ms/step - loss: 0.3037 - accuracy: 0.8912 - val_loss: 0.2965 - val_accuracy: 0.8906\n",
            "Epoch 5/5\n",
            "397/397 [==============================] - 63s 160ms/step - loss: 0.2870 - accuracy: 0.8991 - val_loss: 0.2862 - val_accuracy: 0.8984\n"
          ]
        }
      ]
    },
    {
      "cell_type": "code",
      "source": [
        "print(f\" Training :{model_3.evaluate(train_data)}\")\n",
        "print(f\" Testing  :{model_3.evaluate(test_data)}\")\n",
        "print(f\" Valid    :{model_3.evaluate(val_data)}\")"
      ],
      "metadata": {
        "id": "DMKG4lX5ErT0",
        "colab": {
          "base_uri": "https://localhost:8080/"
        },
        "outputId": "5508d657-13db-4137-aedd-f20e4cb48c8d"
      },
      "execution_count": 21,
      "outputs": [
        {
          "output_type": "stream",
          "name": "stdout",
          "text": [
            "397/397 [==============================] - 50s 125ms/step - loss: 0.2699 - accuracy: 0.9091\n",
            " Training :[0.2698715329170227, 0.9091195464134216]\n",
            "133/133 [==============================] - 17s 128ms/step - loss: 0.2955 - accuracy: 0.8945\n",
            " Testing  :[0.2954769432544708, 0.8944510221481323]\n",
            "133/133 [==============================] - 17s 124ms/step - loss: 0.2862 - accuracy: 0.8984\n",
            " Valid    :[0.2862044870853424, 0.8983932137489319]\n"
          ]
        }
      ]
    },
    {
      "cell_type": "code",
      "source": [
        "create_and_plot_confusion(model_3, test_data, pre_trained = True)"
      ],
      "metadata": {
        "id": "PDkIEKTpEu07"
      },
      "execution_count": null,
      "outputs": []
    }
  ]
}